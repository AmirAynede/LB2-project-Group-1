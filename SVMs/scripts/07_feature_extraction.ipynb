{
  "cells": [
    {
      "cell_type": "code",
      "execution_count": null,
      "metadata": {
        "id": "c9wnXBnt_HBe"
      },
      "outputs": [],
      "source": [
        "import pandas as pd\n",
        "import numpy as np\n",
        "#!pip install biopython\n",
        "#from Bio.SeqUtils.ProtParam import ProteinAnalysis\n",
        "#from Bio.SeqUtils import ProtParamData"
      ]
    },
    {
      "cell_type": "markdown",
      "metadata": {
        "id": "9cZuy6916jPa"
      },
      "source": [
        "## Input dataframe"
      ]
    },
    {
      "cell_type": "markdown",
      "metadata": {
        "id": "mve0gtIu6nQL"
      },
      "source": [
        "## Sequence composition"
      ]
    },
    {
      "cell_type": "code",
      "execution_count": null,
      "metadata": {
        "colab": {
          "base_uri": "https://localhost:8080/"
        },
        "id": "cLSlANU2-1RM",
        "outputId": "d2f0b216-442f-4ff7-c4e4-69a426c4cc41"
      },
      "outputs": [
        {
          "name": "stdout",
          "output_type": "stream",
          "text": [
            "[0.125 0.05  0.075 0.075 0.025 0.05  0.05  0.05  0.025 0.075 0.075 0.025\n",
            " 0.    0.    0.05  0.025 0.    0.125 0.05  0.05 ]\n"
          ]
        }
      ],
      "source": [
        "def sequence_composition(sequence:str)  -> np.ndarray[np.float64]:\n",
        "  sequence = sequence[:40]\n",
        "  alphabet = \"AQLSREKTNGMWDHFYCIPV\"\n",
        "  composition_matrix = np.zeros((20,40))\n",
        "  composition_vector = np.zeros((20))\n",
        "  for i in range(len(alphabet)):\n",
        "    for j in range(len(sequence)):\n",
        "      if alphabet[i] == sequence[j]:\n",
        "        composition_matrix[i][j] += 1\n",
        "        composition_vector[i] += composition_matrix[i][j]\n",
        "  composition_vector = composition_vector/40\n",
        "  return composition_vector\n",
        "\n",
        "print(sequence_composition(\"MPGKMVVILGASNILWIMFAASQAFKIETTPESRYLAQIGDSVSLTCSTTGCESPFFSWRTQIDSPLNGKVTNEGTTSTLTMNPVSFGNE\"))"
      ]
    },
    {
      "cell_type": "markdown",
      "metadata": {
        "id": "AT5lvGjL6ukp"
      },
      "source": [
        "## Hydrophobicity and *a*I"
      ]
    },
    {
      "cell_type": "code",
      "execution_count": null,
      "metadata": {
        "colab": {
          "base_uri": "https://localhost:8080/"
        },
        "id": "xBuQvCrFOiaV",
        "outputId": "779f4705-99b5-484c-e84f-8676618c54b4"
      },
      "outputs": [
        {
          "name": "stdout",
          "output_type": "stream",
          "text": [
            "Hydrophobicity values along the windows:\n",
            " [-0.02 -0.8  -0.42  0.04  1.2   2.18  3.72  3.26  2.78  1.78  0.18  0.32\n",
            "  1.16  0.62  1.68  2.76  2.42  2.02  2.56  1.5   0.42  0.22  0.42 -0.72\n",
            "  0.34  0.34 -0.16 -0.86 -0.4  -2.   -1.46 -2.22 -2.34 -1.26 -0.2  -0.74\n",
            "  1.06  1.24  0.48  0.12] \n",
            " 40\n",
            "Aliphatic indexes along the windows:\n",
            " [0.   0.   0.   0.58 1.16 1.94 2.72 2.72 2.34 1.76 0.98 0.98 1.76 1.56\n",
            " 2.34 2.34 1.56 0.98 1.18 0.4  0.4  0.6  0.4  0.2  0.98 0.98 0.78 0.78\n",
            " 0.78 0.   0.   0.   0.   0.78 0.98 0.98 1.76 1.76 0.98 0.78] \n",
            " 40\n",
            "Final feature vector:\n",
            " [0.5305 3.72   6.     1.0305 2.72   6.    ]\n",
            "Hydrophobicity values along the windows:\n",
            " [-5.71428571e-01 -3.00000000e-01  3.00000000e-01  9.00000000e-01\n",
            "  1.27142857e+00  2.04285714e+00  2.04285714e+00  2.85714286e+00\n",
            "  2.47142857e+00  1.37142857e+00  1.41428571e+00  1.31428571e+00\n",
            "  6.42857143e-01  1.34285714e+00  1.35714286e+00  1.87142857e+00\n",
            "  2.62857143e+00  2.24285714e+00  1.58571429e+00  1.21428571e+00\n",
            "  8.28571429e-01  9.57142857e-01 -6.34413157e-17  3.85714286e-01\n",
            " -3.71428571e-01 -3.57142857e-01  4.28571429e-02 -4.42857143e-01\n",
            " -1.34285714e+00 -9.00000000e-01 -2.18571429e+00 -1.87142857e+00\n",
            " -1.22857143e+00 -8.71428571e-01 -1.14285714e+00  0.00000000e+00\n",
            "  5.71428571e-02  7.00000000e-01  8.85714286e-01  3.42857143e-01] \n",
            " 40\n",
            "Aliphatic indexes along the windows:\n",
            " [0.         0.         0.41428571 0.82857143 1.38571429 1.94285714\n",
            " 1.94285714 2.08571429 2.08571429 1.67142857 1.81428571 1.81428571\n",
            " 1.25714286 1.81428571 1.67142857 1.67142857 1.81428571 1.4\n",
            " 0.84285714 0.84285714 0.42857143 0.42857143 0.42857143 0.84285714\n",
            " 0.7        0.7        0.7        0.55714286 0.55714286 0.55714286\n",
            " 0.         0.         0.55714286 0.7        0.7        1.25714286\n",
            " 1.25714286 1.25714286 1.25714286 0.7       ] \n",
            " 40\n",
            "Final feature vector:\n",
            " [0.53714286 2.85714286 7.         1.02214286 2.08571429 7.        ]\n"
          ]
        }
      ],
      "source": [
        "def hydrophobe(sequence: str, window_size: int) -> tuple[np.ndarray, np.ndarray, np.ndarray]:\n",
        "  kd_scale = {\n",
        "    'R': -4.5,  # Arg\n",
        "    'K': -3.9,  # Lys\n",
        "    'N': -3.5,  # Asn\n",
        "    'D': -3.5,  # Asp\n",
        "    'Q': -3.5,  # Gln\n",
        "    'E': -3.5,  # Glu\n",
        "    'H': -3.2,  # His\n",
        "    'P': -1.6,  # Pro\n",
        "    'Y': -1.3,  # Tyr\n",
        "    'W': -0.9,  # Trp\n",
        "    'S': -0.8,  # Ser\n",
        "    'T': -0.7,  # Thr\n",
        "    'G': -0.4,  # Gly\n",
        "    'A':  1.8,  # Ala\n",
        "    'M':  1.9,  # Met\n",
        "    'C':  2.5,  # Cys\n",
        "    'F':  2.8,  # Phe\n",
        "    'L':  3.8,  # Leu\n",
        "    'V':  4.2,  # Val\n",
        "    'I':  4.5   # Ile\n",
        "    }\n",
        "\n",
        "  a = 2.9 # relative volume of valine\n",
        "  b = 3.9 # relative volume leucine/isoleucine\n",
        "\n",
        "\n",
        "  sequence = sequence[:40]\n",
        "  # padding to have as many scores as residues  (each window refers to the central res)\n",
        "  d = int(window_size/2)\n",
        "  sequence = \"X\"*d + sequence + \"X\"*d #padding\n",
        "  hydrophobicities = np.array([])\n",
        "  AIs = np.array([])\n",
        "  for i in range(len(sequence)-(window_size)+1):\n",
        "      counts_A = 0\n",
        "      counts_V = 0\n",
        "      counts_I = 0\n",
        "      counts_L = 0\n",
        "      hydrophobicity_score = 0\n",
        "      window = sequence[i:i+window_size]\n",
        "      for j in range(window_size):\n",
        "        if window[j] != \"X\":\n",
        "          hydrophobicity_score = (hydrophobicity_score + kd_scale[window[j]])\n",
        "          if window[j] == 'A':\n",
        "              counts_A += 1\n",
        "          elif window[j] == 'V':\n",
        "              counts_V += 1\n",
        "          elif window[j] == 'I':\n",
        "              counts_I += 1\n",
        "          elif window[j] == 'L':\n",
        "                counts_L += 1\n",
        "      X_A = (counts_A / window_size)\n",
        "      X_V = (counts_V / window_size)\n",
        "      X_I = (counts_I / window_size)\n",
        "      X_L = (counts_L / window_size)\n",
        "      AI = X_A + a * X_V + b * (X_I + X_L) #Aliphatic Index Formula\n",
        "      hydrophobicities = np.append(hydrophobicities, hydrophobicity_score / window_size)\n",
        "      AIs = np.append(AIs, AI)\n",
        "  H_AI = np.array([hydrophobicities.mean(), hydrophobicities.max(), np.argmax(hydrophobicities), AIs.mean(), AIs.max(), np.argmax(AIs)])\n",
        "  return hydrophobicities, AIs, H_AI\n",
        "hydro_all, ai_all, feat = hydrophobe(\"MPGKMVVILGASNILWIMFAASQAFKIETTPESRYLAQIGDSVSLTCSTTGCESPFFSWRTQIDSPLNGKVTNEGTTSTLTMNPVSFGNE\",5)\n",
        "print(\"Hydrophobicity values along the windows:\\n\", hydro_all, \"\\n\", len(hydro_all))\n",
        "print(\"Aliphatic indexes along the windows:\\n\", ai_all, \"\\n\", len(ai_all))\n",
        "print(\"Final feature vector:\\n\", feat)\n",
        "\n",
        "hydro_all, ai_all, feat = hydrophobe(\"MPGKMVVILGASNILWIMFAASQAFKIETTPESRYLAQIGDSVSLTCSTTGCESPFFSWRTQIDSPLNGKVTNEGTTSTLTMNPVSFGNE\",7)\n",
        "print(\"Hydrophobicity values along the windows:\\n\", hydro_all, \"\\n\", len(hydro_all))\n",
        "print(\"Aliphatic indexes along the windows:\\n\", ai_all, \"\\n\", len(ai_all))\n",
        "print(\"Final feature vector:\\n\", feat)\n"
      ]
    },
    {
      "cell_type": "markdown",
      "metadata": {
        "id": "ccNvUBvV7OK0"
      },
      "source": []
    },
    {
      "cell_type": "markdown",
      "metadata": {
        "id": "dwnM78z_YSzR"
      },
      "source": [
        "# Aliphatic Index (combined)\n",
        "\n"
      ]
    },
    {
      "cell_type": "code",
      "execution_count": null,
      "metadata": {
        "id": "Tq-Kl9AHLzD0"
      },
      "outputs": [],
      "source": [
        "def aliphatic_index_windowed(sequence: str , window:int =9) -> np.ndarray[np.float64]:\n",
        "    seq = seq.upper()\n",
        "    L = len(seq)\n",
        "    AI_values = []\n",
        "    a = 2.9 # relative volume of valine\n",
        "    b = 3.9 # relative volume leucine/isoleucine\n",
        "\n",
        "    if L == 0 or L < window:\n",
        "        return np.array([0.0])\n",
        "\n",
        "    for i in range(L - window + 1):\n",
        "        sub = seq[i:i+window]\n",
        "\n",
        "        counts_A = 0\n",
        "        counts_V = 0\n",
        "        counts_I = 0\n",
        "        counts_L = 0\n",
        "        for aa in sub:\n",
        "            if aa == 'A':\n",
        "                counts_A += 1\n",
        "            elif aa == 'V':\n",
        "                counts_V += 1\n",
        "            elif aa == 'I':\n",
        "                counts_I += 1\n",
        "            elif aa == 'L':\n",
        "                counts_L += 1\n",
        "\n",
        "        X_A = (counts_A / window) * 100\n",
        "        X_V = (counts_V / window) * 100\n",
        "        X_I = (counts_I / window) * 100\n",
        "        X_L = (counts_L / window) * 100\n",
        "\n",
        "        AI = X_A + a * X_V + b * (X_I + X_L) #Aliphatic Index Formula\n",
        "        AI_values.append(AI)\n",
        "\n",
        "    return np.array(AI_values)"
      ]
    },
    {
      "cell_type": "markdown",
      "metadata": {
        "id": "NlR1SRg-5IUO"
      },
      "source": [
        "# Secondary Structure Elements"
      ]
    },
    {
      "cell_type": "code",
      "execution_count": null,
      "metadata": {
        "colab": {
          "base_uri": "https://localhost:8080/"
        },
        "id": "CnxUnm4R7QR1",
        "outputId": "03320fd3-c5de-4171-c7cb-ea8a1f025baf"
      },
      "outputs": [
        {
          "name": "stdout",
          "output_type": "stream",
          "text": [
            "[0.2725     0.33638889 0.39805556 0.4575     0.4825     0.50083333\n",
            " 0.49194444 0.47944444 0.46055556 0.43333333 0.43388889 0.41861111\n",
            " 0.42055556 0.44888889 0.47333333 0.50138889 0.53027778 0.55722222\n",
            " 0.555      0.55444444 0.54444444 0.51694444 0.51916667 0.52111111\n",
            " 0.52555556 0.52972222 0.51388889 0.48472222 0.45305556 0.42805556\n",
            " 0.41638889 0.42222222 0.41972222 0.43694444 0.45361111 0.47777778\n",
            " 0.4925     0.44972222 0.3725     0.25444444]\n",
            "[ 0.46097917  0.55722222 17.        ]\n",
            "[0.22472222 0.28138889 0.35472222 0.43361111 0.51583333 0.605\n",
            " 0.63583333 0.61611111 0.54888889 0.46333333 0.42777778 0.42944444\n",
            " 0.47194444 0.54555556 0.58027778 0.60416667 0.59583333 0.54638889\n",
            " 0.50388889 0.45138889 0.41388889 0.41305556 0.42027778 0.44916667\n",
            " 0.46527778 0.46083333 0.46916667 0.43444444 0.4125     0.38361111\n",
            " 0.335      0.34111111 0.37305556 0.41944444 0.47777778 0.51416667\n",
            " 0.50944444 0.47944444 0.41416667 0.30083333]\n",
            "[0.45806944 0.63583333 6.        ]\n"
          ]
        }
      ],
      "source": [
        "def SSE(sequence:str,window_size:int = 9)-> tuple [np.ndarray, np.ndarray, np.ndarray, np.ndarray]:\n",
        "  alpha_helix_scale = {\n",
        "      \"G\": 0.570,  # Gly\n",
        "      \"P\": 0.570,  # Pro\n",
        "      \"Y\": 0.690,  # Tyr\n",
        "      \"C\": 0.700,  # Cys\n",
        "      \"S\": 0.770,  # Ser\n",
        "      \"T\": 0.830,  # Thr\n",
        "      \"N\": 0.670,  # Asn\n",
        "      \"R\": 0.980,  # Arg\n",
        "      \"H\": 1.000,  # His\n",
        "      \"D\": 1.010,  # Asp\n",
        "      \"I\": 1.080,  # Ile\n",
        "      \"W\": 1.080,  # Trp\n",
        "      \"Q\": 1.110,  # Gln\n",
        "      \"F\": 1.130,  # Phe\n",
        "      \"K\": 1.160,  # Lys\n",
        "      \"V\": 1.060,  # Val\n",
        "      \"L\": 1.210,  # Leu\n",
        "      \"A\": 1.420,  # Ala\n",
        "      \"M\": 1.450,  # Met\n",
        "      \"E\": 1.510   # Glu\n",
        "  }\n",
        "  beta_sheet_scale = {\n",
        "      \"E\": 0.370,  # Glu\n",
        "      \"D\": 0.540,  # Asp\n",
        "      \"P\": 0.550,  # Pro\n",
        "      \"G\": 0.750,  # Gly\n",
        "      \"S\": 0.750,  # Ser\n",
        "      \"K\": 0.740,  # Lys\n",
        "      \"H\": 0.870,  # His\n",
        "      \"N\": 0.890,  # Asn\n",
        "      \"R\": 0.930,  # Arg\n",
        "      \"A\": 0.830,  # Ala\n",
        "      \"M\": 1.050,  # Met\n",
        "      \"Q\": 1.100,  # Gln\n",
        "      \"C\": 1.190,  # Cys\n",
        "      \"T\": 1.190,  # Thr\n",
        "      \"L\": 1.300,  # Leu\n",
        "      \"F\": 1.380,  # Phe\n",
        "      \"W\": 1.370,  # Trp\n",
        "      \"Y\": 1.470,  # Tyr\n",
        "      \"I\": 1.600,  # Ile\n",
        "      \"V\": 1.700   # Val\n",
        "  }\n",
        "  sequence = sequence[:40]\n",
        "  # padding to have as many scores as residues (each window refers to the central res)\n",
        "  d = int(window_size/2)\n",
        "  sequence = \"X\"*d + sequence + \"X\"*d #padding\n",
        "  alpha_helix = np.array([])\n",
        "  beta_sheet = np.array([])\n",
        "  for i in range(len(sequence)-(window_size)+1):\n",
        "      alpha_score = 0\n",
        "      beta_score = 0\n",
        "      window = sequence[i:i+window_size]\n",
        "      for j in range(window_size):\n",
        "        w = 1 - abs(j - (window_size - 1)/2) / ((window_size - 1)/2)\n",
        "        if window[j] != \"X\":\n",
        "          alpha_score = alpha_score + w * alpha_helix_scale[window[j]]\n",
        "          beta_score = beta_score + w * beta_sheet_scale[window[j]]\n",
        "      alpha_helix = np.append(alpha_helix, alpha_score / window_size)\n",
        "      beta_sheet = np.append(beta_sheet, beta_score / window_size)\n",
        "  alpha_feature = np.array([alpha_helix.mean(), alpha_helix.max(), np.argmax(alpha_helix)])\n",
        "  beta_feature = np.array([beta_sheet.mean(), beta_sheet.max(), np.argmax(beta_sheet)])\n",
        "  return alpha_helix, alpha_feature, beta_sheet, beta_feature\n",
        "\n",
        "alpha_all, alpha_feat, beta_all, beta_feat = SSE(\"MPGKMVVILGASNILWIMFAASQAFKIETTPESRYLAQIGDSVSLTCSTTGCESPFFSWRTQIDSPLNGKVTNEGTTSTLTMNPVSFGNE\",9)\n",
        "print(alpha_all)\n",
        "print(alpha_feat)\n",
        "print(beta_all)\n",
        "print(beta_feat)"
      ]
    },
    {
      "cell_type": "markdown",
      "metadata": {
        "id": "XZa0RNN3bEUX"
      },
      "source": [
        "## Charge"
      ]
    },
    {
      "cell_type": "code",
      "execution_count": null,
      "metadata": {
        "colab": {
          "base_uri": "https://localhost:8080/"
        },
        "id": "41DWxe88bKl-",
        "outputId": "62f1513b-5677-478e-f57f-8673e596b49d"
      },
      "outputs": [
        {
          "name": "stdout",
          "output_type": "stream",
          "text": [
            "Normalized charge values along the windows:\n",
            " [0.         0.         0.33333333 0.33333333 0.33333333 0.\n",
            " 0.         0.         0.         0.         0.         0.\n",
            " 0.         0.         0.         0.         0.         0.\n",
            " 0.         0.        ] \n",
            " 20\n",
            "Final feature vector:\n",
            " [0.33333333 2.         0.         0.        ]\n",
            "Charge values along the windows:\n",
            " [ 0.33333333  0.33333333  0.33333333  0.          0.33333333  0.66666667\n",
            "  1.          0.66666667  0.33333333  0.          0.          0.33333333\n",
            "  0.33333333  0.33333333  0.         -0.33333333 -0.33333333 -0.33333333\n",
            "  0.          0.        ] \n",
            " 20\n",
            "Final feature vector:\n",
            " [ 1.          6.         -0.33333333 15.        ]\n"
          ]
        }
      ],
      "source": [
        "# relating window charge to the context we get more variability across the sequence\n",
        "def charge_seq(sequence: str, window_size:int = 3) -> tuple[np.ndarray, np.ndarray]:\n",
        "  res_charges = {\n",
        "        'K': 1,   # Lys\n",
        "        'R': 1,   # Arg\n",
        "        'H': 0.5, # His (partial positive)\n",
        "        'D': -1,  # Asp\n",
        "        'E': -1   # Glu\n",
        "    }\n",
        "\n",
        "  sequence = sequence[:20]\n",
        "  # padding to have as many scores as residues  (each window refers to the central res)\n",
        "  d = window_size//2\n",
        "  sequence = \"X\"*d + sequence + \"X\"*d #padding\n",
        "\n",
        "  norm_charges = np.array([])\n",
        "\n",
        "  for i in range(len(sequence)-(window_size)+1):\n",
        "      charge = 0\n",
        "      window = sequence[i:i+window_size]\n",
        "      for j in range(window_size):\n",
        "        if window[j] != \"X\" and window[j] in res_charges:\n",
        "          charge = (charge + res_charges[window[j]])\n",
        "      norm_charges = np.append(norm_charges, charge / window_size)\n",
        "  charge_feature = np.array([norm_charges.max(), np.argmax(norm_charges), norm_charges.min(), np.argmin(norm_charges)])\n",
        "  return norm_charges, charge_feature\n",
        "norm, feat = charge_seq(\"MPGKMVVILGASNILWIMFAASQAFKIETTPESRYLAQIGDSVSLTCSTTGCESPFFSWRTQIDSPLNGKVTNEGTTSTLTMNPVSFGNE\",3)\n",
        "print(\"Normalized charge values along the windows:\\n\", norm, \"\\n\", len(norm))\n",
        "print(\"Final feature vector:\\n\", feat)\n",
        "\n",
        "norm, feat = charge_seq(\"MKPPPRRRAAPARYLGEVTGPATWSAREKRQLVRLLQARQGQPEPDATELARELRGRSEAEIRVFLQQLKGRVAREAIQKVHPGGLQGPR\",3)\n",
        "print(\"Charge values along the windows:\\n\", norm, \"\\n\", len(norm))\n",
        "print(\"Final feature vector:\\n\", feat)"
      ]
    }
  ],
  "metadata": {
    "colab": {
      "collapsed_sections": [
        "dwnM78z_YSzR"
      ],
      "provenance": []
    },
    "kernelspec": {
      "display_name": "Python 3",
      "name": "python3"
    },
    "language_info": {
      "name": "python"
    }
  },
  "nbformat": 4,
  "nbformat_minor": 0
}
